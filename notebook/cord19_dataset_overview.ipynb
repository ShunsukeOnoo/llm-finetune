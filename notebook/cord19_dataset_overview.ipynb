{
 "cells": [
  {
   "cell_type": "markdown",
   "metadata": {},
   "source": [
    "# Cord19 dataset overview\n",
    "Let's quickly overview the Cord19 dataset, which is a text corpus of COVID-19 related papers."
   ]
  },
  {
   "cell_type": "code",
   "execution_count": 1,
   "metadata": {},
   "outputs": [
    {
     "name": "stderr",
     "output_type": "stream",
     "text": [
      "/home/onoo/projects/llm-finetune/.venv/lib/python3.11/site-packages/tqdm/auto.py:21: TqdmWarning: IProgress not found. Please update jupyter and ipywidgets. See https://ipywidgets.readthedocs.io/en/stable/user_install.html\n",
      "  from .autonotebook import tqdm as notebook_tqdm\n"
     ]
    },
    {
     "name": "stdout",
     "output_type": "stream",
     "text": [
      "/home/onoo/projects/llm-finetune\n"
     ]
    }
   ],
   "source": [
    "import os\n",
    "from datasets import load_dataset\n",
    "print(os.getcwd())"
   ]
  },
  {
   "cell_type": "code",
   "execution_count": 2,
   "metadata": {},
   "outputs": [],
   "source": [
    "dataset = load_dataset(\n",
    "    path='allenai/cord19',\n",
    "    name='fulltext',\n",
    "    split='train',\n",
    "    cache_dir='./cache/',\n",
    "    trust_remote_code=True\n",
    ")"
   ]
  },
  {
   "cell_type": "code",
   "execution_count": 3,
   "metadata": {},
   "outputs": [
    {
     "data": {
      "text/plain": [
       "dict_keys(['cord_uid', 'sha', 'source_x', 'title', 'doi', 'abstract', 'publish_time', 'authors', 'journal', 'url', 'fulltext'])"
      ]
     },
     "execution_count": 3,
     "metadata": {},
     "output_type": "execute_result"
    }
   ],
   "source": [
    "dataset[0].keys()"
   ]
  },
  {
   "cell_type": "code",
   "execution_count": 4,
   "metadata": {},
   "outputs": [
    {
     "name": "stdout",
     "output_type": "stream",
     "text": [
      "Clinical features of culture-proven Mycoplasma pneumoniae infections at King Abdulaziz University Hospital, Jeddah, Saudi Arabia\n",
      "OBJECTIVE: This retrospective chart review describes the epidemiology and clinical features of 40 patients with culture-proven Mycoplasma pneumoniae infections at King Abdulaziz University Hospital, Jeddah, Saudi Arabia. METHODS: Patients with positive M. pneumoniae cultures from respiratory specimens from January 1997 through December 1998 were identified through the Microbiology records. Charts of patients were reviewed. RESULTS: 40 patients were identified, 33 (82.5%) of whom required admission. Most infections (92.5%) were community-acquired. The infection affected all age groups but was most common in infants (32.5%) and pre-school children (22.5%). It occurred year-round but was most common in the fall (35%) and spring (30%). More than three-quarters of patients (77.5%) had comorbidities. Twenty-four isolates (60%) were associated with pneumonia, 14 (35%) with upper respiratory tract infections, and 2 (5%) with bronchiolitis. Cough (82.5%), fever (75%), and malaise (58.8%) were the most common symptoms, and crepitations (60%), and wheezes (40%) were the most common signs. Most patients with pneumonia had crepitations (79.2%) but only 25% had bronchial breathing. Immunocompromised patients were more likely than non-immunocompromised patients to present with pneumonia (8/9 versus 16/31, P = 0.05). Of the 24 patients with pneumonia, 14 (58.3%) had uneventful recovery, 4 (16.7%) recovered following some complications, 3 (12.5%) died because of M pneumoniae infection, and 3 (12.5%) died due to underlying comorbidities. The 3 patients who died of M pneumoniae pneumonia had other comorbidities. CONCLUSION: our results were similar to published data except for the finding that infections were more common in infants and preschool children and that the mortality rate of pneumonia in patients with comorbidities was high.\n",
      "\n",
      "Nitric oxide: a pro-inflammatory mediator in lung disease?\n",
      "Inflammatory diseases of the respiratory tract are commonly associated with elevated production of nitric oxide (NO•) and increased indices of NO• -dependent oxidative stress. Although NO• is known to have anti-microbial, anti-inflammatory and anti-oxidant properties, various lines of evidence support the contribution of NO• to lung injury in several disease models. On the basis of biochemical evidence, it is often presumed that such NO• -dependent oxidations are due to the formation of the oxidant peroxynitrite, although alternative mechanisms involving the phagocyte-derived heme proteins myeloperoxidase and eosinophil peroxidase might be operative during conditions of inflammation. Because of the overwhelming literature on NO• generation and activities in the respiratory tract, it would be beyond the scope of this commentary to review this area comprehensively. Instead, it focuses on recent evidence and concepts of the presumed contribution of NO• to inflammatory diseases of the lung.\n",
      "\n",
      "Surfactant protein-D and pulmonary host defense\n",
      "Surfactant protein-D (SP-D) participates in the innate response to inhaled microorganisms and organic antigens, and contributes to immune and inflammatory regulation within the lung. SP-D is synthesized and secreted by alveolar and bronchiolar epithelial cells, but is also expressed by epithelial cells lining various exocrine ducts and the mucosa of the gastrointestinal and genitourinary tracts. SP-D, a collagenous calcium-dependent lectin (or collectin), binds to surface glycoconjugates expressed by a wide variety of microorganisms, and to oligosaccharides associated with the surface of various complex organic antigens. SP-D also specifically interacts with glycoconjugates and other molecules expressed on the surface of macrophages, neutrophils, and lymphocytes. In addition, SP-D binds to specific surfactant-associated lipids and can influence the organization of lipid mixtures containing phosphatidylinositol in vitro. Consistent with these diverse in vitro activities is the observation that SP-D-deficient transgenic mice show abnormal accumulations of surfactant lipids, and respond abnormally to challenge with respiratory viruses and bacterial lipopolysaccharides. The phenotype of macrophages isolated from the lungs of SP-D-deficient mice is altered, and there is circumstantial evidence that abnormal oxidant metabolism and/or increased metalloproteinase expression contributes to the development of emphysema. The expression of SP-D is increased in response to many forms of lung injury, and deficient accumulation of appropriately oligomerized SP-D might contribute to the pathogenesis of a variety of human lung diseases.\n",
      "\n",
      "Role of endothelin-1 in lung disease\n",
      "Endothelin-1 (ET-1) is a 21 amino acid peptide with diverse biological activity that has been implicated in numerous diseases. ET-1 is a potent mitogen regulator of smooth muscle tone, and inflammatory mediator that may play a key role in diseases of the airways, pulmonary circulation, and inflammatory lung diseases, both acute and chronic. This review will focus on the biology of ET-1 and its role in lung disease.\n",
      "\n",
      "Gene expression in epithelial cells in response to pneumovirus infection\n",
      "Respiratory syncytial virus (RSV) and pneumonia virus of mice (PVM) are viruses of the family Paramyxoviridae, subfamily pneumovirus, which cause clinically important respiratory infections in humans and rodents, respectively. The respiratory epithelial target cells respond to viral infection with specific alterations in gene expression, including production of chemoattractant cytokines, adhesion molecules, elements that are related to the apoptosis response, and others that remain incompletely understood. Here we review our current understanding of these mucosal responses and discuss several genomic approaches, including differential display reverse transcription-polymerase chain reaction (PCR) and gene array strategies, that will permit us to unravel the nature of these responses in a more complete and systematic manner.\n",
      "\n",
      "Sequence requirements for RNA strand transfer during nidovirus discontinuous subgenomic RNA synthesis\n",
      "Nidovirus subgenomic mRNAs contain a leader sequence derived from the 5′ end of the genome fused to different sequences (‘bodies’) derived from the 3′ end. Their generation involves a unique mechanism of discontinuous subgenomic RNA synthesis that resembles copy-choice RNA recombination. During this process, the nascent RNA strand is transferred from one site in the template to another, during either plus or minus strand synthesis, to yield subgenomic RNA molecules. Central to this process are transcription-regulating sequences (TRSs), which are present at both template sites and ensure the fidelity of strand transfer. Here we present results of a comprehensive co-variation mutagenesis study of equine arteritis virus TRSs, demonstrating that discontinuous RNA synthesis depends not only on base pairing between sense leader TRS and antisense body TRS, but also on the primary sequence of the body TRS. While the leader TRS merely plays a targeting role for strand transfer, the body TRS fulfils multiple functions. The sequences of mRNA leader–body junctions of TRS mutants strongly suggested that the discontinuous step occurs during minus strand synthesis.\n",
      "\n",
      "Debate: Transfusing to normal haemoglobin levels will not improve outcome\n",
      "Recent evidence suggests that critically ill patients are able to tolerate lower levels of haemoglobin than was previously believed. It is our goal to show that transfusing to a level of 100 g/l does not improve mortality and other clinically important outcomes in a critical care setting. Although many questions remain, many laboratory and clinical studies, including a recent randomized controlled trial (RCT), have established that transfusing to normal haemoglobin concentrations does not improve organ failure and mortality in the critically ill patient. In addition, a restrictive transfusion strategy will reduce exposure to allogeneic transfusions, result in more efficient use of red blood cells (RBCs), save blood overall, and decrease health care costs.\n",
      "\n",
      "The 21st International Symposium on Intensive Care and Emergency Medicine, Brussels, Belgium, 20-23 March 2001\n",
      "The 21st International Symposium on Intensive Care and Emergency Medicine was dominated by the results of recent clinical trials in sepsis and acute respiratory distress syndrome (ARDS). The promise of extracorporeal liver replacement therapy and noninvasive ventilation were other areas of interest. Ethical issues also received attention. Overall, the 'state of the art' lectures, pro/con debates, seminars and tutorials were of a high standard. The meeting was marked by a sense of renewed enthusiasm that positive progress is occurring in intensive care medicine.\n",
      "\n",
      "Heme oxygenase-1 and carbon monoxide in pulmonary medicine\n",
      "Heme oxygenase-1 (HO-1), an inducible stress protein, confers cytoprotection against oxidative stress in vitro and in vivo. In addition to its physiological role in heme degradation, HO-1 may influence a number of cellular processes, including growth, inflammation, and apoptosis. By virtue of anti-inflammatory effects, HO-1 limits tissue damage in response to proinflammatory stimuli and prevents allograft rejection after transplantation. The transcriptional upregulation of HO-1 responds to many agents, such as hypoxia, bacterial lipopolysaccharide, and reactive oxygen/nitrogen species. HO-1 and its constitutively expressed isozyme, heme oxygenase-2, catalyze the rate-limiting step in the conversion of heme to its metabolites, bilirubin IXα, ferrous iron, and carbon monoxide (CO). The mechanisms by which HO-1 provides protection most likely involve its enzymatic reaction products. Remarkably, administration of CO at low concentrations can substitute for HO-1 with respect to anti-inflammatory and anti-apoptotic effects, suggesting a role for CO as a key mediator of HO-1 function. Chronic, low-level, exogenous exposure to CO from cigarette smoking contributes to the importance of CO in pulmonary medicine. The implications of the HO-1/CO system in pulmonary diseases will be discussed in this review, with an emphasis on inflammatory states.\n",
      "\n",
      "Technical Description of RODS: A Real-time Public Health Surveillance System\n",
      "This report describes the design and implementation of the Real-time Outbreak and Disease Surveillance (RODS) system, a computer-based public health surveillance system for early detection of disease outbreaks. Hospitals send RODS data from clinical encounters over virtual private networks and leased lines using the Health Level 7 (HL7) message protocol. The data are sent in real time. RODS automatically classifies the registration chief complaint from the visit into one of seven syndrome categories using Bayesian classifiers. It stores the data in a relational database, aggregates the data for analysis using data warehousing techniques, applies univariate and multivariate statistical detection algorithms to the data, and alerts users of when the algorithms identify anomalous patterns in the syndrome counts. RODS also has a Web-based user interface that supports temporal and spatial analyses. RODS processes sales of over-the-counter health care products in a similar manner but receives such data in batch mode on a daily basis. RODS was used during the 2002 Winter Olympics and currently operates in two states—Pennsylvania and Utah. It has been and continues to be a resource for implementing, evaluating, and applying new methods of public health surveillance.\n",
      "\n"
     ]
    }
   ],
   "source": [
    "# let's take a look at first 10 examples\n",
    "for i in range(10):\n",
    "    data = dataset[i]\n",
    "    print(data['title'])\n",
    "    print(data['abstract'])\n",
    "    print()"
   ]
  },
  {
   "cell_type": "code",
   "execution_count": 5,
   "metadata": {},
   "outputs": [
    {
     "data": {
      "text/plain": [
       "368618"
      ]
     },
     "execution_count": 5,
     "metadata": {},
     "output_type": "execute_result"
    }
   ],
   "source": [
    "len(dataset)"
   ]
  },
  {
   "cell_type": "code",
   "execution_count": 6,
   "metadata": {},
   "outputs": [],
   "source": [
    "# let's tokenize some text\n",
    "from transformers import AutoTokenizer\n",
    "tokenizer = AutoTokenizer.from_pretrained('gpt2')"
   ]
  },
  {
   "cell_type": "code",
   "execution_count": 7,
   "metadata": {},
   "outputs": [
    {
     "data": {
      "text/plain": [
       "{'input_ids': [9864, 23680, 9306, 25, 770, 41432, 8262, 2423, 8477, 262, 24574, 12371, 290, 8668, 3033, 286, 2319, 3871, 351, 3968, 12, 42874, 2011, 66, 20106, 11797, 35647, 68, 16079, 379, 2677, 23547, 1031, 528, 2059, 9256, 11, 449, 6048, 993, 11, 7420, 9671, 13, 337, 36252, 50, 25, 28021, 351, 3967, 337, 13, 35647, 68, 13817, 422, 22949, 27569, 422, 3269, 8309, 832, 3426, 7795, 547, 5174, 832, 262, 4527, 43592, 4406, 13, 609, 5889, 286, 3871, 547, 11765, 13, 15731, 35342, 25, 2319, 3871, 547, 5174, 11, 4747, 357, 6469, 13, 20, 4407, 286, 4150, 2672, 13938, 13, 4042, 16079, 357, 5892, 13, 20, 4407, 547, 2055, 12, 43561, 1202, 13, 383, 10280, 5676, 477, 2479, 2628, 475, 373, 749, 2219, 287, 18775, 357, 2624, 13, 20, 4407, 290, 662, 12, 14347, 1751, 357, 1828, 13, 20, 18823, 632, 5091, 614, 12, 744, 475, 373, 749, 2219, 287, 262, 2121, 357, 2327, 4407, 290, 6076, 357, 1270, 18823, 3125, 621, 1115, 12, 8230, 286, 3871, 357, 3324, 13, 20, 4407, 550, 401, 273, 14065, 871, 13, 22381, 12, 14337, 7010, 689, 357, 1899, 4407, 547, 3917, 351, 35647, 11, 1478, 357, 2327, 4407, 351, 6727, 22949, 14998, 16079, 11, 290, 362, 357, 20, 4407, 351, 18443, 354, 1669, 11815, 13, 327, 619, 357, 6469, 13, 20, 15920, 17372, 357, 2425, 15920, 290, 285, 6081, 786, 357, 3365, 13, 23, 4407, 547, 262, 749, 2219, 7460, 11, 290, 1126, 15544, 602, 357, 1899, 15920, 290, 483, 8471, 274, 357, 1821, 4407, 547, 262, 749, 2219, 5895, 13, 4042, 3871, 351, 35647, 550, 1126, 15544, 602, 357, 3720, 13, 17, 4407, 475, 691, 1679, 4, 550, 18443, 354, 498, 12704, 13, 25445, 420, 3361, 398, 1417, 3871, 547, 517, 1884, 621, 1729, 12, 320, 6199, 420, 3361, 398, 1417, 3871, 284, 1944, 351, 35647, 357, 23, 14, 24, 9051, 1467, 14, 3132, 11, 350, 796, 657, 13, 2713, 737, 3226, 262, 1987, 3871, 351, 35647, 11, 1478, 357, 3365, 13, 18, 4407, 550, 555, 15596, 913, 7628, 11, 604, 357, 1433, 13, 22, 4407, 11911, 1708, 617, 19481, 11, 513, 357, 1065, 13, 20, 4407, 3724, 780, 286, 337, 35647, 68, 10280, 11, 290, 513, 357, 1065, 13, 20, 4407, 3724, 2233, 284, 10238, 401, 273, 14065, 871, 13, 383, 513, 3871, 508, 3724, 286, 337, 35647, 68, 35647, 550, 584, 401, 273, 14065, 871, 13, 7102, 28332, 2849, 25, 674, 2482, 547, 2092, 284, 3199, 1366, 2845, 329, 262, 4917, 326, 16079, 547, 517, 2219, 287, 18775, 290, 38725, 1751, 290, 326, 262, 12430, 2494, 286, 35647, 287, 3871, 351, 401, 273, 14065, 871, 373, 1029, 13], 'attention_mask': [1, 1, 1, 1, 1, 1, 1, 1, 1, 1, 1, 1, 1, 1, 1, 1, 1, 1, 1, 1, 1, 1, 1, 1, 1, 1, 1, 1, 1, 1, 1, 1, 1, 1, 1, 1, 1, 1, 1, 1, 1, 1, 1, 1, 1, 1, 1, 1, 1, 1, 1, 1, 1, 1, 1, 1, 1, 1, 1, 1, 1, 1, 1, 1, 1, 1, 1, 1, 1, 1, 1, 1, 1, 1, 1, 1, 1, 1, 1, 1, 1, 1, 1, 1, 1, 1, 1, 1, 1, 1, 1, 1, 1, 1, 1, 1, 1, 1, 1, 1, 1, 1, 1, 1, 1, 1, 1, 1, 1, 1, 1, 1, 1, 1, 1, 1, 1, 1, 1, 1, 1, 1, 1, 1, 1, 1, 1, 1, 1, 1, 1, 1, 1, 1, 1, 1, 1, 1, 1, 1, 1, 1, 1, 1, 1, 1, 1, 1, 1, 1, 1, 1, 1, 1, 1, 1, 1, 1, 1, 1, 1, 1, 1, 1, 1, 1, 1, 1, 1, 1, 1, 1, 1, 1, 1, 1, 1, 1, 1, 1, 1, 1, 1, 1, 1, 1, 1, 1, 1, 1, 1, 1, 1, 1, 1, 1, 1, 1, 1, 1, 1, 1, 1, 1, 1, 1, 1, 1, 1, 1, 1, 1, 1, 1, 1, 1, 1, 1, 1, 1, 1, 1, 1, 1, 1, 1, 1, 1, 1, 1, 1, 1, 1, 1, 1, 1, 1, 1, 1, 1, 1, 1, 1, 1, 1, 1, 1, 1, 1, 1, 1, 1, 1, 1, 1, 1, 1, 1, 1, 1, 1, 1, 1, 1, 1, 1, 1, 1, 1, 1, 1, 1, 1, 1, 1, 1, 1, 1, 1, 1, 1, 1, 1, 1, 1, 1, 1, 1, 1, 1, 1, 1, 1, 1, 1, 1, 1, 1, 1, 1, 1, 1, 1, 1, 1, 1, 1, 1, 1, 1, 1, 1, 1, 1, 1, 1, 1, 1, 1, 1, 1, 1, 1, 1, 1, 1, 1, 1, 1, 1, 1, 1, 1, 1, 1, 1, 1, 1, 1, 1, 1, 1, 1, 1, 1, 1, 1, 1, 1, 1, 1, 1, 1, 1, 1, 1, 1, 1, 1, 1, 1, 1, 1, 1, 1, 1, 1, 1, 1, 1, 1, 1, 1, 1, 1, 1, 1, 1, 1, 1, 1, 1, 1, 1, 1, 1, 1, 1, 1, 1, 1, 1, 1, 1, 1, 1, 1, 1, 1, 1, 1, 1, 1, 1, 1, 1, 1, 1, 1, 1, 1, 1, 1, 1, 1, 1, 1, 1, 1, 1, 1, 1, 1, 1, 1, 1, 1, 1, 1, 1, 1, 1, 1, 1, 1, 1, 1]}"
      ]
     },
     "execution_count": 7,
     "metadata": {},
     "output_type": "execute_result"
    }
   ],
   "source": [
    "text = dataset[0]['abstract']\n",
    "inputs = tokenizer(text)\n",
    "inputs"
   ]
  },
  {
   "cell_type": "code",
   "execution_count": 8,
   "metadata": {},
   "outputs": [],
   "source": [
    "# try our custom dataset\n",
    "from src.llm_finetune.dataset import ConstantLengthDataset\n",
    "\n",
    "custom_dataset = ConstantLengthDataset(\n",
    "    tokenizer, dataset, seq_length=128, num_of_sequences=8\n",
    ")"
   ]
  },
  {
   "cell_type": "code",
   "execution_count": 9,
   "metadata": {},
   "outputs": [
    {
     "name": "stdout",
     "output_type": "stream",
     "text": [
      "torch.Size([128]) tensor([ 7085,  5745,   389,  1090,    83, 11608,   393,   772, 31309,  2854,\n",
      "         4542,   780,   286, 13156, 15964,  2854,   290, 44365,   287,  2854,\n",
      "           12,  3106,  1414,  2233,   284,   262,  7375, 11008,    12,  1129,\n",
      "         4902,    13, 43607,   284,   428,  3957,   290, 20294,  5182,    11,\n",
      "          356,  7267,   326,   340,   318,  2592,  1593,  1141,   262,  4902,\n",
      "          284,   407,   691,  2555,   475,   635, 12160,  2854,  4542,   284,\n",
      "        10996,   257,  4081,   338, 10039,  4571,    11,  2824,  8119,  1597,\n",
      "         1366,    11,  2148,  4688,  7538,   284,  3925,   290,   670, 24432,\n",
      "           11,  1805,  5745,   422,  2742,  7476,    11,   290, 12377,  1353,\n",
      "         7401,    13,  1675,   466,   523,    11,   356,  2897,   257,  4610,\n",
      "          284, 10980,   262,  6459,  3917,   351, 15964,  2854,  1141,   257,\n",
      "         4902,    13, 22426,    11,   356,  9117,   290,  4292,  2402,   262,\n",
      "          880,    12, 27718,  3433, 10335, 19543, 15178,  3953])\n",
      "torch.Size([128]) tensor([  287,  7124,   290, 10400,   262, 15193, 10335, 19543, 15178,   357,\n",
      "           47,  3705,     8,   284,  3953,  2854,    13,   775,  2897,  2370,\n",
      "           12,  3106, 10763,   329, 13157,   350,  3705,  1321,   329,  3925,\n",
      "           11,   670, 24432,    11,   290,   584,  2824,  1083,    11, 14492,\n",
      "          257,  3433, 15193, 10335, 19543, 15178,   357, 22182,  3705,  1776,\n",
      "         1262,  3294,  4237,   286,  2854,  1366,    11,   290,  1262,   350,\n",
      "         3705,   329, 11553,   290, 23456,  4959,   355,   880,   355,   284,\n",
      "         2148,   517, 10792,  2854,  2198,    12,  1040,    13,   350,  3705,\n",
      "          318,   257, 11282,    11,  8472,    11,  5981,    11,   290,  4465,\n",
      "         2854,  3953,  1141,   257,  4902,   884,   355,   262,  7375, 11008,\n",
      "           12,  1129, 19798,  5314,    11,   475,   340,   318,   635,   281,\n",
      "        11044,   326,   481,   307,  4465,   890,   706,   262, 19798,  5314,\n",
      "          318,   625,    13, 50256,   464,  3298,  7375, 11008])\n",
      "torch.Size([128]) tensor([   12,  1129, 19798,  5314,   357,    50, 27415,    12,  7222,    53,\n",
      "           12,    17,  9471,     8,   318,   262, 16215,  1535,  4902,   286,\n",
      "          674,  4289,    13, 14444,   284,   262,  8889,   286, 18336,   290,\n",
      "         5010,   326,   460,  1037,   284,  1907,   340,    11,   262,   995,\n",
      "         4610,   284,  1630,   262,  4104,   468,   587,   284,  2074,  1171,\n",
      "         1919,  5253,  5260,   326, 30940,   262, 36275,   286,   262,  1535,\n",
      "         1080,    13,   554,   428,  4732,    11,   356,  9161,   257,  9104,\n",
      "        14322, 45279,  6779,   357,    44,  5662,     8,  9355,   284,  5004,\n",
      "          262,   640,   290,  9478,   286,  1919,  1233,  5077,  4788,    13,\n",
      "          775,   779, 17036,  1366,   287,   262,  2278,   422,  2805,   284,\n",
      "         1737,   286, 12131,    13,   383,  1695,  1366,  5115,   262,  1271,\n",
      "          286, 14112,  3925,   290,  7040, 21046,   422,   850,    12,  1662,\n",
      "         2649,  2233,   284,   262,  8889,   286,  2347,  5254])\n",
      "torch.Size([128]) tensor([  290,   262,  5981,  4931,   286,   262,   355,  4948,   457, 13730,\n",
      "         3925,    13,   775,  8636, 13991,   286,   262,   311,  4663,  2746,\n",
      "         1262,   281, 13479,    12,  6551,   276,  1004,   459,    12, 22266,\n",
      "         3565, 34054,   326, 14358,  1111, 26934,   290, 18326,    12,  7890,\n",
      "         3403,    13, 10968,    11,   356,   751,   284,   674,  6300,   286,\n",
      "          262,   311,  4663,  2746,   281,  3224,  8925,  1181,  7885,   284,\n",
      "        26332,   262,  2882,   286,   262,  3265,   284,   262,  1919,  1233,\n",
      "         5077,  4788,  5295,   416,   262,  1230,   326, 10975,   262,  2866,\n",
      "          286,  7375, 11008,    12,  1129, 11478,    13,  3954,  1630,  9355,\n",
      "          318,  1626,   257,  7668,    12,  6404,   605,  8766,  1042,    11,\n",
      "         1201,   262,  2551,  7885,   318, 35701, 13934,   357,  1169,  6224,\n",
      "          393,   262,  8889,   286,  1919,  5253,  2450,   737,   317, 14046,\n",
      "           12,  2435, 32315,   318,  3017,   284,  3368, 11859])\n",
      "torch.Size([128]) tensor([15852,  1022,   777,   734,  2585,    13,  9461,    11,   356,  1944,\n",
      "        18640,  2482,   284, 19418,   703,   884, 16586,  1630,  2450,   561,\n",
      "         8076,    13,  2312,  2482,   966,   503,   326,   645,  1919,  1233,\n",
      "         5077,   815,   307, 18397,   878,  3095,  2932, 12131,    13,  1002,\n",
      "         8960,   602,   389,  3306,    11,   484,   815,   407,   307,  6157,\n",
      "          878,   262,  3726,   428,  3128,   290,   815,   307,   287,  1402,\n",
      "         9574,    11,   645,  2392,   621,  1679,  1528,    13,   770, 23457,\n",
      "          561,  5120,  7323,  1566,  3269,    14,  1238,  2481,    13,   383,\n",
      "         1218,  9103,   286, 16079,    11,   543,   468,   257, 11092,   284,\n",
      "          262,  3726,   286,  3267,    11,   460,   307,  5322,   611,   262,\n",
      "         9574,   286,   645,    12,   271, 21417,  1528,   389, 34464,    13,\n",
      "        50256,    53, 21093, 35647,   468,   257,  2383,  1245,   319,   262,\n",
      "        21134,  1080,   832,  2972, 11701,    26,   772,   996])\n",
      "torch.Size([128]) tensor([  340,   318, 16083, 11987,   355,   257, 45105,  4369, 16264,   416,\n",
      "        13147, 21999,  2577,    64,   290,  5328,  1140,    64, 22859,    13,\n",
      "        22926,  2267,  2499,   423,  3402,   326, 21134,  2995, 31405,   477,\n",
      "          584,  5640,   286,  1918,   287,  2972, 29491, 19798,   368,   873,\n",
      "           13,  8447,    11,   262, 13936,   286,   262,  3048,   286, 14416,\n",
      "        35647,   319, 21134,  1080,  4329,  6481,  6393,    13,   383,  9432,\n",
      "          286,   428,  2423,   318,  1115,    12, 11379,    25,   717,    11,\n",
      "          284, 35743,   262,  3725,   546,   262, 24574, 15071,  9695,   290,\n",
      "         8668, 38538,   286, 14416, 16079,   326,   389,   262,  2274,  5640,\n",
      "          286,  3298, 19798,   368,   873,    26,  1218,    11,   284,  7301,\n",
      "          262, 21134,  2882,   284,   777, 16079,    26,   290,  2368,    11,\n",
      "          284,  2230,   287, 13720,   262,  1744, 35326, 10064,   286,   262,\n",
      "          370,  7456,   272, 18195,   290,   262,  2003, 14416])\n",
      "torch.Size([128]) tensor([  818,   465,  2597,   355, 11079, 19477,   329, 13613, 10665,    11,\n",
      "        26482,   347,    13,  6065,    64,    11,  1380,    13,    35,  1539,\n",
      "         3521,   470,  1037,   475,  4003,   703,   262,  7375, 11008,  9333,\n",
      "         1129,  4902, 14537,   262, 29097, 35797,  1871,  2444, 18724,   379,\n",
      "        30595,  2059,  9333,  3791, 32211,    11,  5140,   287,   530,   286,\n",
      "          262,  3277,   338,  3024, 10222,    11,   287,  4318,   968,  8221,\n",
      "           11,   655,   739,  2319,  4608,   422,   968,  1971,  2254,    13,\n",
      "        50256,   464,   995,   318,  3058, 20974,   416,   257,  5337, 26920,\n",
      "          615, 19397,  4369,   357,  8220, 11008,    12,  1129,   737, 11834,\n",
      "         1146,    11,  7375, 11008,    12,  1129,  2523,   257,  3154,  2837,\n",
      "          286, 38538,    25,   422,   355,  4948,   457, 13730,   284,  6049,\n",
      "          290,  5457, 17769,   987, 18167, 35647,    13, 12168,  3640,  5220,\n",
      "          262,  9750,   286, 27533,    12,    35,   357,    53])\n",
      "torch.Size([128]) tensor([  270,    35,     8,   287,  8868,   262,  2526,   286,  7375, 11008,\n",
      "           12,  1129, 16079,    14, 28116,   414,    13,  2102,    11,   749,\n",
      "          286,   606,   389,  1912,   319,  5397,   415,   498, 25568,  3007,\n",
      "           11,   588,   262,  8112,  1022, 32477,    12,  5363, 19606,  7111,\n",
      "          290, 12430,  2494,    11,   981,  3640,  1912,   319,  3871,     6,\n",
      "        18271,    35, 13871,   389,   991, 18549,    13,  8447,    11,   356,\n",
      "        23583,  2280, 15475,   262, 18271,    35,  2974,   357,  1326, 34006,\n",
      "          355,  1679,    12, 15511, 42059,    85, 40746,    12,    35,     8,\n",
      "          422,   257, 20812,   286, 43292,  3871,  6848,   284,   257,  7840,\n",
      "         8200,  9256,   355,  9885,  7375, 11008,    12,  1129,    82,    13,\n",
      "         3226,   606,    11, 13108,   547,  3967,   357,  5999, 10835,    11,\n",
      "         9722,  8190,    13,    22,  6354,  1478,    13,    17,   290,  4153,\n",
      "        12366,    11,  9722,  8644,    13,    18,  6354,  1315])\n",
      "torch.Size([128]) tensor([   13,    21,     8,   290, 30453,   547,  4633,   357, 15982, 10835,\n",
      "           11,  9722,  8190,    13,    23,  6354,   678,    13,    20,   290,\n",
      "        13539, 12366,    11,  9722,  7175,    13,    18,  6354,  1160,    13,\n",
      "           16,   737,   383, 16449, 18271,    35,  2974,   547,  2092,   287,\n",
      "          262,   734,  2628,    25,  2310,    13,    23,  6354,  1467,    13,\n",
      "           16, 23370,    14, 32087,   290,  2534,    13,    23,  6354,  1478,\n",
      "           13,    15, 23370,    14, 32087,   329,   262,  7375, 11008,    12,\n",
      "         1129,  3967,   290,  4633,  1448,  8148,   357,    79,    12,  8367,\n",
      "           25,   657,    13,  2670,   828,   355,   880,   355,   262,  5873,\n",
      "          286,  3925,  1719, 18271,    35,  2974,  2174,  1542, 23370,    14,\n",
      "        32087,    25,  8699,    13,    24,     4,   290,  8854,    13,    20,\n",
      "            4,   329,   262,  7375, 11008,    12,  1129,  3967,   290,  4633,\n",
      "         1448,  8148,    13,  4362,   257,  1588,  6903,   286])\n",
      "torch.Size([128]) tensor([ 3871,   547,  2174,   262,  5220,  1542, 23370,    14, 32087, 11387,\n",
      "           11,   356,   460,   470, 19607,   326, 18271,    35, 30306,    11,\n",
      "        25646,  3487,  2974,    11,  1244,   307, 13205,   287,  8868,   262,\n",
      "         2526,   286, 10280,    13, 50256, 50256, 50256, 21756,   464, 13130,\n",
      "         5337, 26920,   615, 19397,  4369,   357,  8220, 11008,    12,  1129,\n",
      "            8, 17645,  2900,   656,   257, 19798,  5314,    11,   351,  5179,\n",
      "          286,  4138,   286,  2663,  2098, 18309,    13,   383,  1271,   286,\n",
      "         2663, 12034,  3220,  3726,   287,  1903,  2805, 12131,    13, 36223,\n",
      "         1135, 15276,   262, 23818,  1487,   287,   262, 18349,   290,  1339,\n",
      "           12, 17359,  1483,  3965,   286,  7375, 11008,    12,  1129,   379,\n",
      "          262,  3298,    11,  7915,    11,   290,  2260,  2974,   422,  3269,\n",
      "          284,  2805,  1467,    11, 12131,    11,   287, 24235,  5676,  2678,\n",
      "          290, 16771, 18309,    13, 25458,  1135,  7723,  1366])\n"
     ]
    }
   ],
   "source": [
    "c = 10\n",
    "\n",
    "for batch in custom_dataset:\n",
    "    tokens = batch['input_ids']\n",
    "    print(tokens.shape, tokens)\n",
    "    \n",
    "    c -= 1\n",
    "    if c == 0:\n",
    "        break"
   ]
  },
  {
   "cell_type": "code",
   "execution_count": 10,
   "metadata": {},
   "outputs": [
    {
     "name": "stderr",
     "output_type": "stream",
     "text": [
      "Generating train split: 100%|██████████| 368618/368618 [00:22<00:00, 16134.41 examples/s]\n"
     ]
    }
   ],
   "source": [
    "dataset = load_dataset(\n",
    "    path='allenai/cord19',\n",
    "    name='metadata',\n",
    "    split='train',\n",
    "    cache_dir='./cache/',\n",
    "    trust_remote_code=True\n",
    ")"
   ]
  },
  {
   "cell_type": "code",
   "execution_count": 11,
   "metadata": {},
   "outputs": [
    {
     "data": {
      "text/plain": [
       "{'cord_uid': 'ug7v899j',\n",
       " 'sha': 'd1aafb70c066a2068b02786f8929fd9c900897fb',\n",
       " 'source_x': 'PMC',\n",
       " 'title': 'Clinical features of culture-proven Mycoplasma pneumoniae infections at King Abdulaziz University Hospital, Jeddah, Saudi Arabia',\n",
       " 'doi': '10.1186/1471-2334-1-6',\n",
       " 'abstract': 'OBJECTIVE: This retrospective chart review describes the epidemiology and clinical features of 40 patients with culture-proven Mycoplasma pneumoniae infections at King Abdulaziz University Hospital, Jeddah, Saudi Arabia. METHODS: Patients with positive M. pneumoniae cultures from respiratory specimens from January 1997 through December 1998 were identified through the Microbiology records. Charts of patients were reviewed. RESULTS: 40 patients were identified, 33 (82.5%) of whom required admission. Most infections (92.5%) were community-acquired. The infection affected all age groups but was most common in infants (32.5%) and pre-school children (22.5%). It occurred year-round but was most common in the fall (35%) and spring (30%). More than three-quarters of patients (77.5%) had comorbidities. Twenty-four isolates (60%) were associated with pneumonia, 14 (35%) with upper respiratory tract infections, and 2 (5%) with bronchiolitis. Cough (82.5%), fever (75%), and malaise (58.8%) were the most common symptoms, and crepitations (60%), and wheezes (40%) were the most common signs. Most patients with pneumonia had crepitations (79.2%) but only 25% had bronchial breathing. Immunocompromised patients were more likely than non-immunocompromised patients to present with pneumonia (8/9 versus 16/31, P = 0.05). Of the 24 patients with pneumonia, 14 (58.3%) had uneventful recovery, 4 (16.7%) recovered following some complications, 3 (12.5%) died because of M pneumoniae infection, and 3 (12.5%) died due to underlying comorbidities. The 3 patients who died of M pneumoniae pneumonia had other comorbidities. CONCLUSION: our results were similar to published data except for the finding that infections were more common in infants and preschool children and that the mortality rate of pneumonia in patients with comorbidities was high.',\n",
       " 'publish_time': '2001-07-04',\n",
       " 'authors': 'Madani, Tariq A; Al-Ghamdi, Aisha A',\n",
       " 'journal': 'BMC Infect Dis',\n",
       " 'url': 'https://www.ncbi.nlm.nih.gov/pmc/articles/PMC35282/'}"
      ]
     },
     "execution_count": 11,
     "metadata": {},
     "output_type": "execute_result"
    }
   ],
   "source": [
    "dataset[0]"
   ]
  },
  {
   "cell_type": "code",
   "execution_count": null,
   "metadata": {},
   "outputs": [],
   "source": []
  }
 ],
 "metadata": {
  "kernelspec": {
   "display_name": ".venv",
   "language": "python",
   "name": "python3"
  },
  "language_info": {
   "codemirror_mode": {
    "name": "ipython",
    "version": 3
   },
   "file_extension": ".py",
   "mimetype": "text/x-python",
   "name": "python",
   "nbconvert_exporter": "python",
   "pygments_lexer": "ipython3",
   "version": "3.11.8"
  }
 },
 "nbformat": 4,
 "nbformat_minor": 2
}

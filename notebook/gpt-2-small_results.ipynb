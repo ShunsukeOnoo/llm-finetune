{
 "cells": [
  {
   "cell_type": "markdown",
   "metadata": {},
   "source": [
    "# Let's compare the behavior of GPT-2 before and after fine-tuning."
   ]
  },
  {
   "cell_type": "code",
   "execution_count": null,
   "metadata": {},
   "outputs": [],
   "source": [
    "import torch\n",
    "import transformers import GPT2LMHeadModel, GPT2Tokenizer"
   ]
  },
  {
   "cell_type": "code",
   "execution_count": null,
   "metadata": {},
   "outputs": [],
   "source": [
    "# load pretrained model\n",
    "model_pt = GPT2LMHeadModel.from_pretrained('gpt2')\n",
    "tokenizer = GPT2Tokenizer.from_pretrained('gpt2')\n",
    "\n",
    "# load fine-tuned model\n",
    "#model_checkpoint = ''\n",
    "#model_ft = GPT2LMHeadModel.from_pretrained(model_checkpoint)"
   ]
  },
  {
   "cell_type": "code",
   "execution_count": null,
   "metadata": {},
   "outputs": [],
   "source": [
    "# Compare the generated text from the two models\n",
    "# Let's see the knowledge on the Covid-19\n",
    "prompt = 'Covid-19 is'\n",
    "input_ids = tokenizer.encode(prompt, return_tensors='pt')\n",
    "\n",
    "output_pt = model_pt.generate(input_ids, max_length=50)\n",
    "output_ft = model_ft.generate(input_ids, max_length=50)\n",
    "\n",
    "output_pt = tokenizer.decode(output_pt[0], skip_special_tokens=True)\n",
    "output_ft = tokenizer.decode(output_ft[0], skip_special_tokens=True)\n",
    "\n",
    "print('GPT2: ', output_pt)\n",
    "print('Fine-tuned GPT2: ', output_ft)"
   ]
  }
 ],
 "metadata": {
  "kernelspec": {
   "display_name": ".venv",
   "language": "python",
   "name": "python3"
  },
  "language_info": {
   "name": "python",
   "version": "3.11.8"
  }
 },
 "nbformat": 4,
 "nbformat_minor": 2
}
